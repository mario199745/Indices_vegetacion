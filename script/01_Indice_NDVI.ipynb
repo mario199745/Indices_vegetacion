{
 "cells": [
  {
   "cell_type": "code",
   "execution_count": 4,
   "metadata": {},
   "outputs": [
    {
     "data": {
      "text/html": [
       "\n",
       "            <style>\n",
       "                .geemap-dark {\n",
       "                    --jp-widgets-color: white;\n",
       "                    --jp-widgets-label-color: white;\n",
       "                    --jp-ui-font-color1: white;\n",
       "                    --jp-layout-color2: #454545;\n",
       "                    background-color: #383838;\n",
       "                }\n",
       "\n",
       "                .geemap-dark .jupyter-button {\n",
       "                    --jp-layout-color3: #383838;\n",
       "                }\n",
       "\n",
       "                .geemap-colab {\n",
       "                    background-color: var(--colab-primary-surface-color, white);\n",
       "                }\n",
       "\n",
       "                .geemap-colab .jupyter-button {\n",
       "                    --jp-layout-color3: var(--colab-primary-surface-color, white);\n",
       "                }\n",
       "            </style>\n",
       "            "
      ],
      "text/plain": [
       "<IPython.core.display.HTML object>"
      ]
     },
     "metadata": {},
     "output_type": "display_data"
    },
    {
     "ename": "EEException",
     "evalue": "Your application is authenticating by using local Application Default Credentials. The earthengine.googleapis.com API requires a quota project, which is not set by default. To learn how to set your quota project, see https://cloud.google.com/docs/authentication/adc-troubleshooting/user-creds .",
     "output_type": "error",
     "traceback": [
      "\u001b[1;31m---------------------------------------------------------------------------\u001b[0m",
      "\u001b[1;31mHttpError\u001b[0m                                 Traceback (most recent call last)",
      "File \u001b[1;32mc:\\Users\\USUARIO\\miniconda3\\envs\\rgee\\lib\\site-packages\\ee\\data.py:326\u001b[0m, in \u001b[0;36m_execute_cloud_call\u001b[1;34m(call, num_retries)\u001b[0m\n\u001b[0;32m    318\u001b[0m \u001b[38;5;28;01massert\u001b[39;00m _requests_session \u001b[38;5;129;01mis\u001b[39;00m \u001b[38;5;129;01mnot\u001b[39;00m \u001b[38;5;28;01mNone\u001b[39;00m\n\u001b[0;32m    319\u001b[0m _cloud_api_resource \u001b[38;5;241m=\u001b[39m _cloud_api_utils\u001b[38;5;241m.\u001b[39mbuild_cloud_resource(\n\u001b[0;32m    320\u001b[0m     _cloud_api_base_url,\n\u001b[0;32m    321\u001b[0m     _requests_session,\n\u001b[0;32m    322\u001b[0m     credentials\u001b[38;5;241m=\u001b[39m_credentials,\n\u001b[0;32m    323\u001b[0m     api_key\u001b[38;5;241m=\u001b[39m_cloud_api_key,\n\u001b[0;32m    324\u001b[0m     timeout\u001b[38;5;241m=\u001b[39mtimeout,\n\u001b[0;32m    325\u001b[0m     headers_supplier\u001b[38;5;241m=\u001b[39m_make_request_headers,\n\u001b[1;32m--> 326\u001b[0m     response_inspector\u001b[38;5;241m=\u001b[39m_handle_profiling_response,\n\u001b[0;32m    327\u001b[0m     http_transport\u001b[38;5;241m=\u001b[39m_http_transport,\n\u001b[0;32m    328\u001b[0m )\n\u001b[0;32m    330\u001b[0m _cloud_api_resource_raw \u001b[38;5;241m=\u001b[39m _cloud_api_utils\u001b[38;5;241m.\u001b[39mbuild_cloud_resource(\n\u001b[0;32m    331\u001b[0m     _cloud_api_base_url,\n\u001b[0;32m    332\u001b[0m     _requests_session,\n\u001b[1;32m   (...)\u001b[0m\n\u001b[0;32m    339\u001b[0m     raw\u001b[38;5;241m=\u001b[39m\u001b[38;5;28;01mTrue\u001b[39;00m,\n\u001b[0;32m    340\u001b[0m )\n",
      "File \u001b[1;32mc:\\Users\\USUARIO\\miniconda3\\envs\\rgee\\lib\\site-packages\\googleapiclient\\_helpers.py:130\u001b[0m, in \u001b[0;36mpositional.<locals>.positional_decorator.<locals>.positional_wrapper\u001b[1;34m(*args, **kwargs)\u001b[0m\n\u001b[0;32m    129\u001b[0m         logger\u001b[38;5;241m.\u001b[39mwarning(message)\n\u001b[1;32m--> 130\u001b[0m \u001b[38;5;28;01mreturn\u001b[39;00m wrapped(\u001b[38;5;241m*\u001b[39margs, \u001b[38;5;241m*\u001b[39m\u001b[38;5;241m*\u001b[39mkwargs)\n",
      "File \u001b[1;32mc:\\Users\\USUARIO\\miniconda3\\envs\\rgee\\lib\\site-packages\\googleapiclient\\http.py:938\u001b[0m, in \u001b[0;36mHttpRequest.execute\u001b[1;34m(self, http, num_retries)\u001b[0m\n\u001b[0;32m    937\u001b[0m \u001b[38;5;28;01mif\u001b[39;00m resp\u001b[38;5;241m.\u001b[39mstatus \u001b[38;5;241m>\u001b[39m\u001b[38;5;241m=\u001b[39m \u001b[38;5;241m300\u001b[39m:\n\u001b[1;32m--> 938\u001b[0m     \u001b[38;5;28;01mraise\u001b[39;00m HttpError(resp, content, uri\u001b[38;5;241m=\u001b[39m\u001b[38;5;28mself\u001b[39m\u001b[38;5;241m.\u001b[39muri)\n\u001b[0;32m    939\u001b[0m \u001b[38;5;28;01mreturn\u001b[39;00m \u001b[38;5;28mself\u001b[39m\u001b[38;5;241m.\u001b[39mpostproc(resp, content)\n",
      "\u001b[1;31mHttpError\u001b[0m: <HttpError 403 when requesting https://earthengine.googleapis.com/v1alpha/projects/earthengine-legacy/algorithms?prettyPrint=false&alt=json returned \"Your application is authenticating by using local Application Default Credentials. The earthengine.googleapis.com API requires a quota project, which is not set by default. To learn how to set your quota project, see https://cloud.google.com/docs/authentication/adc-troubleshooting/user-creds .\". Details: \"[{'@type': 'type.googleapis.com/google.rpc.ErrorInfo', 'reason': 'SERVICE_DISABLED', 'domain': 'googleapis.com', 'metadata': {'consumer': 'projects/764086051850', 'service': 'earthengine.googleapis.com'}}]\">",
      "\nDuring handling of the above exception, another exception occurred:\n",
      "\u001b[1;31mEEException\u001b[0m                               Traceback (most recent call last)",
      "Cell \u001b[1;32mIn[4], line 8\u001b[0m\n\u001b[0;32m      5\u001b[0m \u001b[38;5;28;01mimport\u001b[39;00m \u001b[38;5;21;01mmatplotlib\u001b[39;00m\u001b[38;5;21;01m.\u001b[39;00m\u001b[38;5;21;01mpyplot\u001b[39;00m \u001b[38;5;28;01mas\u001b[39;00m \u001b[38;5;21;01mplt\u001b[39;00m\n\u001b[0;32m      7\u001b[0m \u001b[38;5;66;03m# Inicializar la API de Earth Engine\u001b[39;00m\n\u001b[1;32m----> 8\u001b[0m \u001b[43mee\u001b[49m\u001b[38;5;241;43m.\u001b[39;49m\u001b[43mInitialize\u001b[49m\u001b[43m(\u001b[49m\u001b[43m)\u001b[49m\n\u001b[0;32m     10\u001b[0m \u001b[38;5;66;03m# Definir la región de interés\u001b[39;00m\n\u001b[0;32m     11\u001b[0m region \u001b[38;5;241m=\u001b[39m ee\u001b[38;5;241m.\u001b[39mFeatureCollection(\u001b[38;5;124m'\u001b[39m\u001b[38;5;124mprojects/ee-mariocaceresreyna25/assets/PROVINCIAS_PERU\u001b[39m\u001b[38;5;124m'\u001b[39m) \\\n\u001b[0;32m     12\u001b[0m             \u001b[38;5;241m.\u001b[39mfilter(ee\u001b[38;5;241m.\u001b[39mFilter\u001b[38;5;241m.\u001b[39meq(\u001b[38;5;124m'\u001b[39m\u001b[38;5;124mPROVINCIA\u001b[39m\u001b[38;5;124m'\u001b[39m, \u001b[38;5;124m'\u001b[39m\u001b[38;5;124mHUARAZ\u001b[39m\u001b[38;5;124m'\u001b[39m))\n",
      "File \u001b[1;32mc:\\Users\\USUARIO\\miniconda3\\envs\\rgee\\lib\\site-packages\\ee\\__init__.py:140\u001b[0m, in \u001b[0;36mInitialize\u001b[1;34m(credentials, opt_url, cloud_api_key, http_transport, project)\u001b[0m\n\u001b[0;32m    125\u001b[0m \u001b[38;5;129m@_utils\u001b[39m\u001b[38;5;241m.\u001b[39maccept_opt_prefix(\u001b[38;5;124m'\u001b[39m\u001b[38;5;124mopt_url\u001b[39m\u001b[38;5;124m'\u001b[39m)\n\u001b[0;32m    126\u001b[0m \u001b[38;5;28;01mdef\u001b[39;00m \u001b[38;5;21mInitialize\u001b[39m(\n\u001b[0;32m    127\u001b[0m     credentials: Optional[Any] \u001b[38;5;241m=\u001b[39m \u001b[38;5;124m'\u001b[39m\u001b[38;5;124mpersistent\u001b[39m\u001b[38;5;124m'\u001b[39m,\n\u001b[1;32m   (...)\u001b[0m\n\u001b[0;32m    131\u001b[0m     project: Optional[Union[\u001b[38;5;28mstr\u001b[39m, \u001b[38;5;28mint\u001b[39m]] \u001b[38;5;241m=\u001b[39m \u001b[38;5;28;01mNone\u001b[39;00m,\n\u001b[0;32m    132\u001b[0m ) \u001b[38;5;241m-\u001b[39m\u001b[38;5;241m>\u001b[39m \u001b[38;5;28;01mNone\u001b[39;00m:\n\u001b[0;32m    133\u001b[0m \u001b[38;5;250m  \u001b[39m\u001b[38;5;124;03m\"\"\"Initialize the EE library.\u001b[39;00m\n\u001b[0;32m    134\u001b[0m \n\u001b[0;32m    135\u001b[0m \u001b[38;5;124;03m  If this hasn't been called by the time any object constructor is used,\u001b[39;00m\n\u001b[0;32m    136\u001b[0m \u001b[38;5;124;03m  it will be called then.  If this is called a second time with a different\u001b[39;00m\n\u001b[0;32m    137\u001b[0m \u001b[38;5;124;03m  URL, this doesn't do an un-initialization of e.g.: the previously loaded\u001b[39;00m\n\u001b[0;32m    138\u001b[0m \u001b[38;5;124;03m  Algorithms, but will overwrite them and let point at alternate servers.\u001b[39;00m\n\u001b[0;32m    139\u001b[0m \n\u001b[1;32m--> 140\u001b[0m \u001b[38;5;124;03m  Args:\u001b[39;00m\n\u001b[0;32m    141\u001b[0m \u001b[38;5;124;03m    credentials: OAuth2 credentials.  'persistent' (default) means use\u001b[39;00m\n\u001b[0;32m    142\u001b[0m \u001b[38;5;124;03m      credentials already stored in the filesystem, or raise an explanatory\u001b[39;00m\n\u001b[0;32m    143\u001b[0m \u001b[38;5;124;03m      exception guiding the user to create those credentials.\u001b[39;00m\n\u001b[0;32m    144\u001b[0m \u001b[38;5;124;03m    url: The base url for the EarthEngine REST API to connect to.\u001b[39;00m\n\u001b[0;32m    145\u001b[0m \u001b[38;5;124;03m    cloud_api_key: An optional API key to use the Cloud API.\u001b[39;00m\n\u001b[0;32m    146\u001b[0m \u001b[38;5;124;03m    http_transport: The http transport method to use when making requests.\u001b[39;00m\n\u001b[0;32m    147\u001b[0m \u001b[38;5;124;03m    project: The client project ID or number to use when making API calls.\u001b[39;00m\n\u001b[0;32m    148\u001b[0m \u001b[38;5;124;03m  \"\"\"\u001b[39;00m\n\u001b[0;32m    149\u001b[0m   \u001b[38;5;28;01mif\u001b[39;00m credentials \u001b[38;5;241m==\u001b[39m \u001b[38;5;124m'\u001b[39m\u001b[38;5;124mpersistent\u001b[39m\u001b[38;5;124m'\u001b[39m:\n\u001b[0;32m    150\u001b[0m     credentials \u001b[38;5;241m=\u001b[39m data\u001b[38;5;241m.\u001b[39mget_persistent_credentials()\n",
      "File \u001b[1;32mc:\\Users\\USUARIO\\miniconda3\\envs\\rgee\\lib\\site-packages\\ee\\apifunction.py:154\u001b[0m, in \u001b[0;36minitialize\u001b[1;34m(cls)\u001b[0m\n\u001b[0;32m    144\u001b[0m \u001b[38;5;129m@classmethod\u001b[39m\n\u001b[0;32m    145\u001b[0m \u001b[38;5;28;01mdef\u001b[39;00m \u001b[38;5;21mlookupInternal\u001b[39m(\u001b[38;5;28mcls\u001b[39m, name: \u001b[38;5;28mstr\u001b[39m) \u001b[38;5;241m-\u001b[39m\u001b[38;5;241m>\u001b[39m Optional[ApiFunction]:\n\u001b[0;32m    146\u001b[0m \u001b[38;5;250m  \u001b[39m\u001b[38;5;124;03m\"\"\"Looks up an API function by name.\u001b[39;00m\n\u001b[0;32m    147\u001b[0m \n\u001b[0;32m    148\u001b[0m \u001b[38;5;124;03m  Args:\u001b[39;00m\n\u001b[1;32m   (...)\u001b[0m\n\u001b[0;32m    152\u001b[0m \u001b[38;5;124;03m    The requested ApiFunction or None if not found.\u001b[39;00m\n\u001b[0;32m    153\u001b[0m \u001b[38;5;124;03m  \"\"\"\u001b[39;00m\n\u001b[1;32m--> 154\u001b[0m   \u001b[38;5;28mcls\u001b[39m\u001b[38;5;241m.\u001b[39minitialize()\n\u001b[0;32m    155\u001b[0m   \u001b[38;5;28;01mreturn\u001b[39;00m \u001b[38;5;28mcls\u001b[39m\u001b[38;5;241m.\u001b[39m_api\u001b[38;5;241m.\u001b[39mget(name, \u001b[38;5;28;01mNone\u001b[39;00m)\n",
      "File \u001b[1;32mc:\\Users\\USUARIO\\miniconda3\\envs\\rgee\\lib\\site-packages\\ee\\data.py:1128\u001b[0m, in \u001b[0;36mgetAlgorithms\u001b[1;34m()\u001b[0m\n\u001b[0;32m   1108\u001b[0m \u001b[38;5;129m@deprecation\u001b[39m\u001b[38;5;241m.\u001b[39mDeprecated(\u001b[38;5;124m'\u001b[39m\u001b[38;5;124mUse getThumbId and makeThumbUrl\u001b[39m\u001b[38;5;124m'\u001b[39m)\n\u001b[0;32m   1109\u001b[0m \u001b[38;5;28;01mdef\u001b[39;00m \u001b[38;5;21mgetThumbnail\u001b[39m(\n\u001b[0;32m   1110\u001b[0m     params: Dict[\u001b[38;5;28mstr\u001b[39m, Any], thumbType: Optional[\u001b[38;5;28mstr\u001b[39m] \u001b[38;5;241m=\u001b[39m \u001b[38;5;28;01mNone\u001b[39;00m\n\u001b[0;32m   1111\u001b[0m ) \u001b[38;5;241m-\u001b[39m\u001b[38;5;241m>\u001b[39m Any:\n\u001b[0;32m   1112\u001b[0m \u001b[38;5;250m  \u001b[39m\u001b[38;5;124;03m\"\"\"Get a Thumbnail for a given asset.\u001b[39;00m\n\u001b[0;32m   1113\u001b[0m \n\u001b[0;32m   1114\u001b[0m \u001b[38;5;124;03m  Args:\u001b[39;00m\n\u001b[0;32m   1115\u001b[0m \u001b[38;5;124;03m    params: Parameters identical to getMapId, plus:\u001b[39;00m\n\u001b[0;32m   1116\u001b[0m \u001b[38;5;124;03m        size - (a number or pair of numbers in format WIDTHxHEIGHT) Maximum\u001b[39;00m\n\u001b[0;32m   1117\u001b[0m \u001b[38;5;124;03m          dimensions of the thumbnail to render, in pixels. If only one number\u001b[39;00m\n\u001b[0;32m   1118\u001b[0m \u001b[38;5;124;03m          is passed, it is used as the maximum, and the other dimension is\u001b[39;00m\n\u001b[0;32m   1119\u001b[0m \u001b[38;5;124;03m          computed by proportional scaling.\u001b[39;00m\n\u001b[0;32m   1120\u001b[0m \u001b[38;5;124;03m        region - (E,S,W,N or GeoJSON) Geospatial region of the image\u001b[39;00m\n\u001b[0;32m   1121\u001b[0m \u001b[38;5;124;03m          to render. By default, the whole image.\u001b[39;00m\n\u001b[0;32m   1122\u001b[0m \u001b[38;5;124;03m        format - (string) Either 'png' (default) or 'jpg'.\u001b[39;00m\n\u001b[0;32m   1123\u001b[0m \u001b[38;5;124;03m     thumbType: Thumbnail type to get. Only valid values are\u001b[39;00m\n\u001b[0;32m   1124\u001b[0m \u001b[38;5;124;03m        'video' or 'filmstrip' otherwise the request is treated as a\u001b[39;00m\n\u001b[0;32m   1125\u001b[0m \u001b[38;5;124;03m        regular thumbnail.\u001b[39;00m\n\u001b[0;32m   1126\u001b[0m \u001b[38;5;124;03m  Returns:\u001b[39;00m\n\u001b[0;32m   1127\u001b[0m \u001b[38;5;124;03m    A thumbnail image as raw PNG data.\u001b[39;00m\n\u001b[1;32m-> 1128\u001b[0m \u001b[38;5;124;03m  \"\"\"\u001b[39;00m\n\u001b[0;32m   1129\u001b[0m   thumbid \u001b[38;5;241m=\u001b[39m params[\u001b[38;5;124m'\u001b[39m\u001b[38;5;124mimage\u001b[39m\u001b[38;5;124m'\u001b[39m]\u001b[38;5;241m.\u001b[39mgetThumbId(params)[\u001b[38;5;124m'\u001b[39m\u001b[38;5;124mthumbid\u001b[39m\u001b[38;5;124m'\u001b[39m]\n\u001b[0;32m   1130\u001b[0m   \u001b[38;5;28;01mif\u001b[39;00m thumbType \u001b[38;5;241m==\u001b[39m \u001b[38;5;124m'\u001b[39m\u001b[38;5;124mvideo\u001b[39m\u001b[38;5;124m'\u001b[39m:\n",
      "File \u001b[1;32mc:\\Users\\USUARIO\\miniconda3\\envs\\rgee\\lib\\site-packages\\ee\\data.py:328\u001b[0m, in \u001b[0;36m_execute_cloud_call\u001b[1;34m(call, num_retries)\u001b[0m\n\u001b[0;32m    317\u001b[0m timeout \u001b[38;5;241m=\u001b[39m (_deadline_ms \u001b[38;5;241m/\u001b[39m \u001b[38;5;241m1000.0\u001b[39m) \u001b[38;5;129;01mor\u001b[39;00m \u001b[38;5;28;01mNone\u001b[39;00m\n\u001b[0;32m    318\u001b[0m \u001b[38;5;28;01massert\u001b[39;00m _requests_session \u001b[38;5;129;01mis\u001b[39;00m \u001b[38;5;129;01mnot\u001b[39;00m \u001b[38;5;28;01mNone\u001b[39;00m\n\u001b[0;32m    319\u001b[0m _cloud_api_resource \u001b[38;5;241m=\u001b[39m _cloud_api_utils\u001b[38;5;241m.\u001b[39mbuild_cloud_resource(\n\u001b[0;32m    320\u001b[0m     _cloud_api_base_url,\n\u001b[0;32m    321\u001b[0m     _requests_session,\n\u001b[0;32m    322\u001b[0m     credentials\u001b[38;5;241m=\u001b[39m_credentials,\n\u001b[0;32m    323\u001b[0m     api_key\u001b[38;5;241m=\u001b[39m_cloud_api_key,\n\u001b[0;32m    324\u001b[0m     timeout\u001b[38;5;241m=\u001b[39mtimeout,\n\u001b[0;32m    325\u001b[0m     headers_supplier\u001b[38;5;241m=\u001b[39m_make_request_headers,\n\u001b[0;32m    326\u001b[0m     response_inspector\u001b[38;5;241m=\u001b[39m_handle_profiling_response,\n\u001b[0;32m    327\u001b[0m     http_transport\u001b[38;5;241m=\u001b[39m_http_transport,\n\u001b[1;32m--> 328\u001b[0m )\n\u001b[0;32m    330\u001b[0m _cloud_api_resource_raw \u001b[38;5;241m=\u001b[39m _cloud_api_utils\u001b[38;5;241m.\u001b[39mbuild_cloud_resource(\n\u001b[0;32m    331\u001b[0m     _cloud_api_base_url,\n\u001b[0;32m    332\u001b[0m     _requests_session,\n\u001b[1;32m   (...)\u001b[0m\n\u001b[0;32m    339\u001b[0m     raw\u001b[38;5;241m=\u001b[39m\u001b[38;5;28;01mTrue\u001b[39;00m,\n\u001b[0;32m    340\u001b[0m )\n",
      "\u001b[1;31mEEException\u001b[0m: Your application is authenticating by using local Application Default Credentials. The earthengine.googleapis.com API requires a quota project, which is not set by default. To learn how to set your quota project, see https://cloud.google.com/docs/authentication/adc-troubleshooting/user-creds ."
     ]
    }
   ],
   "source": [
    "import ee\n",
    "import folium\n",
    "import geemap.foliumap as geemap\n",
    "import pandas as pd\n",
    "import matplotlib.pyplot as plt\n",
    "\n",
    "# Inicializar la API de Earth Engine\n",
    "ee.Initialize()\n",
    "\n",
    "# Definir la región de interés\n",
    "region = ee.FeatureCollection('projects/ee-mariocaceresreyna25/assets/PROVINCIAS_PERU') \\\n",
    "            .filter(ee.Filter.eq('PROVINCIA', 'HUARAZ'))\n",
    "\n",
    "# Función para calcular el NDVI\n",
    "def addNDVI(image):\n",
    "    ndvi = image.normalizedDifference(['B5', 'B4']).rename('NDVI')\n",
    "    return image.addBands(ndvi)\n",
    "\n",
    "# Lista para almacenar los datos para el gráfico\n",
    "ndvi_time_series = []\n",
    "\n",
    "# Procesar imágenes año por año\n",
    "for year in range(2015, 2024):\n",
    "    start_date = f'{year}-01-01'\n",
    "    end_date = f'{year}-12-31'\n",
    "    \n",
    "    # Cargar la colección de imágenes Landsat 8\n",
    "    collection = ee.ImageCollection(\"LANDSAT/LC08/C02/T1_L2\") \\\n",
    "                    .filterBounds(region) \\\n",
    "                    .filterDate(start_date, end_date) \\\n",
    "                    .map(addNDVI)\n",
    "    \n",
    "    # Calcular el NDVI medio para el año\n",
    "    mean_ndvi = collection.select('NDVI').mean()\n",
    "    \n",
    "    # Agregar el NDVI medio a la lista para el gráfico\n",
    "    ndvi_value = mean_ndvi.reduceRegion(ee.Reducer.mean(), region, scale=30).get('NDVI').getInfo()\n",
    "    ndvi_time_series.append(ndvi_value)\n",
    "    \n",
    "    # Visualización\n",
    "    map = geemap.Map()\n",
    "    map.addLayer(mean_ndvi, {'min': 0, 'max': 1, 'palette': ['blue', 'white', 'green']}, f'NDVI {year}')\n",
    "    map.centerObject(region, 8)\n",
    "    display(map)\n",
    "\n",
    "# Gráfico de la evolución temporal del NDVI\n",
    "plt.figure(figsize=(10, 6))\n",
    "plt.plot(range(2015, 2024), ndvi_time_series, marker='o')\n",
    "plt.title('Evolución Temporal del NDVI (2015-2023)')\n",
    "plt.xlabel('Año')\n",
    "plt.ylabel('Valor NDVI medio')\n",
    "plt.grid(True)\n",
    "plt.show()\n",
    "\n"
   ]
  }
 ],
 "metadata": {
  "kernelspec": {
   "display_name": "qgz",
   "language": "python",
   "name": "python3"
  },
  "language_info": {
   "codemirror_mode": {
    "name": "ipython",
    "version": 3
   },
   "file_extension": ".py",
   "mimetype": "text/x-python",
   "name": "python",
   "nbconvert_exporter": "python",
   "pygments_lexer": "ipython3",
   "version": "3.10.8"
  }
 },
 "nbformat": 4,
 "nbformat_minor": 2
}
